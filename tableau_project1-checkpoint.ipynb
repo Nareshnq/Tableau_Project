{
 "cells": [
  {
   "cell_type": "code",
   "execution_count": 2,
   "id": "0f54e6d5",
   "metadata": {},
   "outputs": [],
   "source": [
    "import pandas as pd \n",
    "import numpy as np "
   ]
  },
  {
   "cell_type": "code",
   "execution_count": 3,
   "id": "b9e24e9c",
   "metadata": {},
   "outputs": [],
   "source": [
    "file_path='london_merged.csv'\n",
    "df=pd.read_csv(file_path)"
   ]
  },
  {
   "cell_type": "code",
   "execution_count": 4,
   "id": "048a6daf",
   "metadata": {},
   "outputs": [
    {
     "data": {
      "text/html": [
       "<div>\n",
       "<style scoped>\n",
       "    .dataframe tbody tr th:only-of-type {\n",
       "        vertical-align: middle;\n",
       "    }\n",
       "\n",
       "    .dataframe tbody tr th {\n",
       "        vertical-align: top;\n",
       "    }\n",
       "\n",
       "    .dataframe thead th {\n",
       "        text-align: right;\n",
       "    }\n",
       "</style>\n",
       "<table border=\"1\" class=\"dataframe\">\n",
       "  <thead>\n",
       "    <tr style=\"text-align: right;\">\n",
       "      <th></th>\n",
       "      <th>timestamp</th>\n",
       "      <th>cnt</th>\n",
       "      <th>t1</th>\n",
       "      <th>t2</th>\n",
       "      <th>hum</th>\n",
       "      <th>wind_speed</th>\n",
       "      <th>weather_code</th>\n",
       "      <th>is_holiday</th>\n",
       "      <th>is_weekend</th>\n",
       "      <th>season</th>\n",
       "    </tr>\n",
       "  </thead>\n",
       "  <tbody>\n",
       "    <tr>\n",
       "      <th>0</th>\n",
       "      <td>2015-01-04 00:00:00</td>\n",
       "      <td>182</td>\n",
       "      <td>3.0</td>\n",
       "      <td>2.0</td>\n",
       "      <td>93.0</td>\n",
       "      <td>6.0</td>\n",
       "      <td>3.0</td>\n",
       "      <td>0.0</td>\n",
       "      <td>1.0</td>\n",
       "      <td>3.0</td>\n",
       "    </tr>\n",
       "    <tr>\n",
       "      <th>1</th>\n",
       "      <td>2015-01-04 01:00:00</td>\n",
       "      <td>138</td>\n",
       "      <td>3.0</td>\n",
       "      <td>2.5</td>\n",
       "      <td>93.0</td>\n",
       "      <td>5.0</td>\n",
       "      <td>1.0</td>\n",
       "      <td>0.0</td>\n",
       "      <td>1.0</td>\n",
       "      <td>3.0</td>\n",
       "    </tr>\n",
       "    <tr>\n",
       "      <th>2</th>\n",
       "      <td>2015-01-04 02:00:00</td>\n",
       "      <td>134</td>\n",
       "      <td>2.5</td>\n",
       "      <td>2.5</td>\n",
       "      <td>96.5</td>\n",
       "      <td>0.0</td>\n",
       "      <td>1.0</td>\n",
       "      <td>0.0</td>\n",
       "      <td>1.0</td>\n",
       "      <td>3.0</td>\n",
       "    </tr>\n",
       "    <tr>\n",
       "      <th>3</th>\n",
       "      <td>2015-01-04 03:00:00</td>\n",
       "      <td>72</td>\n",
       "      <td>2.0</td>\n",
       "      <td>2.0</td>\n",
       "      <td>100.0</td>\n",
       "      <td>0.0</td>\n",
       "      <td>1.0</td>\n",
       "      <td>0.0</td>\n",
       "      <td>1.0</td>\n",
       "      <td>3.0</td>\n",
       "    </tr>\n",
       "    <tr>\n",
       "      <th>4</th>\n",
       "      <td>2015-01-04 04:00:00</td>\n",
       "      <td>47</td>\n",
       "      <td>2.0</td>\n",
       "      <td>0.0</td>\n",
       "      <td>93.0</td>\n",
       "      <td>6.5</td>\n",
       "      <td>1.0</td>\n",
       "      <td>0.0</td>\n",
       "      <td>1.0</td>\n",
       "      <td>3.0</td>\n",
       "    </tr>\n",
       "  </tbody>\n",
       "</table>\n",
       "</div>"
      ],
      "text/plain": [
       "             timestamp  cnt   t1   t2    hum  wind_speed  weather_code  \\\n",
       "0  2015-01-04 00:00:00  182  3.0  2.0   93.0         6.0           3.0   \n",
       "1  2015-01-04 01:00:00  138  3.0  2.5   93.0         5.0           1.0   \n",
       "2  2015-01-04 02:00:00  134  2.5  2.5   96.5         0.0           1.0   \n",
       "3  2015-01-04 03:00:00   72  2.0  2.0  100.0         0.0           1.0   \n",
       "4  2015-01-04 04:00:00   47  2.0  0.0   93.0         6.5           1.0   \n",
       "\n",
       "   is_holiday  is_weekend  season  \n",
       "0         0.0         1.0     3.0  \n",
       "1         0.0         1.0     3.0  \n",
       "2         0.0         1.0     3.0  \n",
       "3         0.0         1.0     3.0  \n",
       "4         0.0         1.0     3.0  "
      ]
     },
     "execution_count": 4,
     "metadata": {},
     "output_type": "execute_result"
    }
   ],
   "source": [
    "df.head(5)"
   ]
  },
  {
   "cell_type": "markdown",
   "id": "e75e19d5",
   "metadata": {},
   "source": [
    "### Metadata:\n",
    "\"timestamp\" - timestamp field for grouping the data\n",
    "\n",
    "\"cnt\" - the count of a new bike shares\n",
    "\n",
    "\"t1\" - real temperature in C\n",
    "\n",
    "\"t2\" - temperature in C \"feels like\"\n",
    "\n",
    "\"hum\" - humidity in percentage\n",
    "\n",
    "\"wind_speed\" - wind speed in km/h\n",
    "\n",
    "\"weather_code\" - category of the weather\n",
    "\n",
    "\"is_holiday\" - boolean field - 1 holiday / 0 non holiday\n",
    "\n",
    "\"is_weekend\" - boolean field - 1 if the day is weekend\n",
    "\n",
    "\"season\" - category field meteorological seasons: 0-spring ; 1-summer; 2-fall; 3-winter.\n",
    "\n",
    "\n",
    "\"weathe_code\" category description:\n",
    "\n",
    "1 = Clear ; mostly clear but have some values with haze/fog/patches of fog/ fog in vicinity 2 = scattered clouds / few clouds 3 = Broken clouds 4 = Cloudy 7 = Rain/ light Rain shower/ Light rain 10 = rain with thunderstorm 26 = snowfall 94 = Freezing Fog"
   ]
  },
  {
   "cell_type": "code",
   "execution_count": 5,
   "id": "140fed02",
   "metadata": {},
   "outputs": [
    {
     "name": "stdout",
     "output_type": "stream",
     "text": [
      "<class 'pandas.core.frame.DataFrame'>\n",
      "RangeIndex: 17414 entries, 0 to 17413\n",
      "Data columns (total 10 columns):\n",
      " #   Column        Non-Null Count  Dtype  \n",
      "---  ------        --------------  -----  \n",
      " 0   timestamp     17414 non-null  object \n",
      " 1   cnt           17414 non-null  int64  \n",
      " 2   t1            17414 non-null  float64\n",
      " 3   t2            17414 non-null  float64\n",
      " 4   hum           17414 non-null  float64\n",
      " 5   wind_speed    17414 non-null  float64\n",
      " 6   weather_code  17414 non-null  float64\n",
      " 7   is_holiday    17414 non-null  float64\n",
      " 8   is_weekend    17414 non-null  float64\n",
      " 9   season        17414 non-null  float64\n",
      "dtypes: float64(8), int64(1), object(1)\n",
      "memory usage: 1.3+ MB\n"
     ]
    }
   ],
   "source": [
    "df.info()"
   ]
  },
  {
   "cell_type": "code",
   "execution_count": 6,
   "id": "e7e7f40a",
   "metadata": {},
   "outputs": [
    {
     "data": {
      "text/plain": [
       "(17414, 10)"
      ]
     },
     "execution_count": 6,
     "metadata": {},
     "output_type": "execute_result"
    }
   ],
   "source": [
    "df.shape"
   ]
  },
  {
   "cell_type": "code",
   "execution_count": 7,
   "id": "e34b4cdb",
   "metadata": {
    "collapsed": true
   },
   "outputs": [
    {
     "name": "stdout",
     "output_type": "stream",
     "text": [
      "                 timestamp   cnt   t1   t2    hum  wind_speed  weather_code  \\\n",
      "0      2015-01-04 00:00:00   182  3.0  2.0   93.0         6.0           3.0   \n",
      "1      2015-01-04 01:00:00   138  3.0  2.5   93.0         5.0           1.0   \n",
      "2      2015-01-04 02:00:00   134  2.5  2.5   96.5         0.0           1.0   \n",
      "3      2015-01-04 03:00:00    72  2.0  2.0  100.0         0.0           1.0   \n",
      "4      2015-01-04 04:00:00    47  2.0  0.0   93.0         6.5           1.0   \n",
      "...                    ...   ...  ...  ...    ...         ...           ...   \n",
      "17409  2017-01-03 19:00:00  1042  5.0  1.0   81.0        19.0           3.0   \n",
      "17410  2017-01-03 20:00:00   541  5.0  1.0   81.0        21.0           4.0   \n",
      "17411  2017-01-03 21:00:00   337  5.5  1.5   78.5        24.0           4.0   \n",
      "17412  2017-01-03 22:00:00   224  5.5  1.5   76.0        23.0           4.0   \n",
      "17413  2017-01-03 23:00:00   139  5.0  1.0   76.0        22.0           2.0   \n",
      "\n",
      "       is_holiday  is_weekend  season  \n",
      "0             0.0         1.0     3.0  \n",
      "1             0.0         1.0     3.0  \n",
      "2             0.0         1.0     3.0  \n",
      "3             0.0         1.0     3.0  \n",
      "4             0.0         1.0     3.0  \n",
      "...           ...         ...     ...  \n",
      "17409         0.0         0.0     3.0  \n",
      "17410         0.0         0.0     3.0  \n",
      "17411         0.0         0.0     3.0  \n",
      "17412         0.0         0.0     3.0  \n",
      "17413         0.0         0.0     3.0  \n",
      "\n",
      "[17414 rows x 10 columns]\n"
     ]
    }
   ],
   "source": [
    "print (df)"
   ]
  },
  {
   "cell_type": "code",
   "execution_count": 8,
   "id": "8d339664",
   "metadata": {},
   "outputs": [
    {
     "data": {
      "text/plain": [
       "weather_code\n",
       "1.0     6150\n",
       "2.0     4034\n",
       "3.0     3551\n",
       "7.0     2141\n",
       "4.0     1464\n",
       "26.0      60\n",
       "10.0      14\n",
       "Name: count, dtype: int64"
      ]
     },
     "execution_count": 8,
     "metadata": {},
     "output_type": "execute_result"
    }
   ],
   "source": [
    "#lets find the unique number of values in weather_code column from the dataset\n",
    "\n",
    "df.weather_code.value_counts()"
   ]
  },
  {
   "cell_type": "code",
   "execution_count": 9,
   "id": "dc5d13e7",
   "metadata": {},
   "outputs": [
    {
     "data": {
      "text/plain": [
       "season\n",
       "0.0    4394\n",
       "1.0    4387\n",
       "3.0    4330\n",
       "2.0    4303\n",
       "Name: count, dtype: int64"
      ]
     },
     "execution_count": 9,
     "metadata": {},
     "output_type": "execute_result"
    }
   ],
   "source": [
    "#lets find the unique number of values in season  column from the dataset\n",
    "\n",
    "df.season.value_counts()\n"
   ]
  },
  {
   "cell_type": "code",
   "execution_count": 12,
   "id": "4b4ca7ea",
   "metadata": {},
   "outputs": [],
   "source": [
    "##lets modify the column names ---\n",
    "# lets make a dictionary first --\n",
    "new_colm_name_dict={'timestamp':'time',\n",
    "                   'cnt':'total_no',\n",
    "                   't1':'original_temp',\n",
    "                   't2':'temp_feels_like',\n",
    "                   'hum':'humidity_percent',\n",
    "                   'wind_speed':'wind_speed_kph',\n",
    "                   'weather_code':'weather',\n",
    "                   'is_holiday':'is_holiday',\n",
    "                    'is_weekend':'is_weekend',\n",
    "                   'season':'season'}\n",
    "\n",
    "# renaming column to specified ones \n",
    "df.rename(new_colm_name_dict,axis=1,inplace=True)"
   ]
  },
  {
   "cell_type": "code",
   "execution_count": 13,
   "id": "8514de09",
   "metadata": {},
   "outputs": [],
   "source": [
    "#changning humididty values to percentage beteween 0 and 1\n",
    "\n",
    "df.humidity_percent=df.humidity_percent/100"
   ]
  },
  {
   "cell_type": "code",
   "execution_count": 14,
   "id": "d69f3186",
   "metadata": {},
   "outputs": [],
   "source": [
    "#now lets change the season code and weather code to some real names \n",
    "\n",
    "season_dict={'0.0':'spring',    \n",
    "'1.0':'summer',\n",
    "'2.0':'autumn',\n",
    "'3.0':'winter'    \n",
    " }\n",
    "\n",
    "weather_dict={'1.0':'Clear',     \n",
    "'2.0':'Scattered Clouds' ,   \n",
    "'3.0':'Broken Clouds',  \n",
    "'7.0': 'Cloudy',   \n",
    "'4.0':  'Rain',  \n",
    "'26.0':  'Thunderstrom and Rain', \n",
    "'10.0':'Snowfall'}"
   ]
  },
  {
   "cell_type": "code",
   "execution_count": 15,
   "id": "cf419a07",
   "metadata": {},
   "outputs": [],
   "source": [
    "#lets change the column type for Season from float64 to str \n",
    "df.season=df.season.astype('str')\n",
    "\n",
    "#mapping the  values 0-3  to the actual writeen season \n",
    "df.season=df.season.map(season_dict)\n",
    "\n",
    "#changing the weather  column type from float 64 to str \n",
    "df.weather=df.weather.astype('str')\n",
    "\n",
    "#mapping the  values   to the actual writeen weather values\n",
    "df.weather=df.weather.map(weather_dict)"
   ]
  },
  {
   "cell_type": "code",
   "execution_count": 16,
   "id": "4818a4cd",
   "metadata": {},
   "outputs": [
    {
     "data": {
      "text/html": [
       "<div>\n",
       "<style scoped>\n",
       "    .dataframe tbody tr th:only-of-type {\n",
       "        vertical-align: middle;\n",
       "    }\n",
       "\n",
       "    .dataframe tbody tr th {\n",
       "        vertical-align: top;\n",
       "    }\n",
       "\n",
       "    .dataframe thead th {\n",
       "        text-align: right;\n",
       "    }\n",
       "</style>\n",
       "<table border=\"1\" class=\"dataframe\">\n",
       "  <thead>\n",
       "    <tr style=\"text-align: right;\">\n",
       "      <th></th>\n",
       "      <th>time</th>\n",
       "      <th>total_no</th>\n",
       "      <th>original_temp</th>\n",
       "      <th>temp_feels_like</th>\n",
       "      <th>humidity_percent</th>\n",
       "      <th>wind_speed_kph</th>\n",
       "      <th>weather</th>\n",
       "      <th>is_holiday</th>\n",
       "      <th>is_weekend</th>\n",
       "      <th>season</th>\n",
       "    </tr>\n",
       "  </thead>\n",
       "  <tbody>\n",
       "    <tr>\n",
       "      <th>0</th>\n",
       "      <td>2015-01-04 00:00:00</td>\n",
       "      <td>182</td>\n",
       "      <td>3.0</td>\n",
       "      <td>2.0</td>\n",
       "      <td>0.930</td>\n",
       "      <td>6.0</td>\n",
       "      <td>Broken Clouds</td>\n",
       "      <td>0.0</td>\n",
       "      <td>1.0</td>\n",
       "      <td>winter</td>\n",
       "    </tr>\n",
       "    <tr>\n",
       "      <th>1</th>\n",
       "      <td>2015-01-04 01:00:00</td>\n",
       "      <td>138</td>\n",
       "      <td>3.0</td>\n",
       "      <td>2.5</td>\n",
       "      <td>0.930</td>\n",
       "      <td>5.0</td>\n",
       "      <td>Clear</td>\n",
       "      <td>0.0</td>\n",
       "      <td>1.0</td>\n",
       "      <td>winter</td>\n",
       "    </tr>\n",
       "    <tr>\n",
       "      <th>2</th>\n",
       "      <td>2015-01-04 02:00:00</td>\n",
       "      <td>134</td>\n",
       "      <td>2.5</td>\n",
       "      <td>2.5</td>\n",
       "      <td>0.965</td>\n",
       "      <td>0.0</td>\n",
       "      <td>Clear</td>\n",
       "      <td>0.0</td>\n",
       "      <td>1.0</td>\n",
       "      <td>winter</td>\n",
       "    </tr>\n",
       "    <tr>\n",
       "      <th>3</th>\n",
       "      <td>2015-01-04 03:00:00</td>\n",
       "      <td>72</td>\n",
       "      <td>2.0</td>\n",
       "      <td>2.0</td>\n",
       "      <td>1.000</td>\n",
       "      <td>0.0</td>\n",
       "      <td>Clear</td>\n",
       "      <td>0.0</td>\n",
       "      <td>1.0</td>\n",
       "      <td>winter</td>\n",
       "    </tr>\n",
       "    <tr>\n",
       "      <th>4</th>\n",
       "      <td>2015-01-04 04:00:00</td>\n",
       "      <td>47</td>\n",
       "      <td>2.0</td>\n",
       "      <td>0.0</td>\n",
       "      <td>0.930</td>\n",
       "      <td>6.5</td>\n",
       "      <td>Clear</td>\n",
       "      <td>0.0</td>\n",
       "      <td>1.0</td>\n",
       "      <td>winter</td>\n",
       "    </tr>\n",
       "  </tbody>\n",
       "</table>\n",
       "</div>"
      ],
      "text/plain": [
       "                  time  total_no  original_temp  temp_feels_like  \\\n",
       "0  2015-01-04 00:00:00       182            3.0              2.0   \n",
       "1  2015-01-04 01:00:00       138            3.0              2.5   \n",
       "2  2015-01-04 02:00:00       134            2.5              2.5   \n",
       "3  2015-01-04 03:00:00        72            2.0              2.0   \n",
       "4  2015-01-04 04:00:00        47            2.0              0.0   \n",
       "\n",
       "   humidity_percent  wind_speed_kph        weather  is_holiday  is_weekend  \\\n",
       "0             0.930             6.0  Broken Clouds         0.0         1.0   \n",
       "1             0.930             5.0          Clear         0.0         1.0   \n",
       "2             0.965             0.0          Clear         0.0         1.0   \n",
       "3             1.000             0.0          Clear         0.0         1.0   \n",
       "4             0.930             6.5          Clear         0.0         1.0   \n",
       "\n",
       "   season  \n",
       "0  winter  \n",
       "1  winter  \n",
       "2  winter  \n",
       "3  winter  \n",
       "4  winter  "
      ]
     },
     "execution_count": 16,
     "metadata": {},
     "output_type": "execute_result"
    }
   ],
   "source": [
    "df.head()"
   ]
  },
  {
   "cell_type": "code",
   "execution_count": 17,
   "id": "fe93296f",
   "metadata": {},
   "outputs": [],
   "source": [
    "df.to_excel('London_bikes_data.xlsx',sheet_name='Data')"
   ]
  },
  {
   "cell_type": "code",
   "execution_count": null,
   "id": "3d2d04dc",
   "metadata": {},
   "outputs": [],
   "source": []
  }
 ],
 "metadata": {
  "kernelspec": {
   "display_name": "Python 3 (ipykernel)",
   "language": "python",
   "name": "python3"
  },
  "language_info": {
   "codemirror_mode": {
    "name": "ipython",
    "version": 3
   },
   "file_extension": ".py",
   "mimetype": "text/x-python",
   "name": "python",
   "nbconvert_exporter": "python",
   "pygments_lexer": "ipython3",
   "version": "3.11.7"
  }
 },
 "nbformat": 4,
 "nbformat_minor": 5
}
